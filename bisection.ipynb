{
 "cells": [
  {
   "cell_type": "markdown",
   "id": "9dba609e-80ce-4c8a-972d-4b9658b21317",
   "metadata": {},
   "source": [
    "## 4) BISECTION-b\n",
    "\n",
    "**Problem:** Carilah akar dari $f(x)=x^2-2x-3$ menggunakan metode Bisection. Range awal $[a, b]$ bebas, toleransi error $\\epsilon_s=10^{-4}$.\n",
    "\n",
    "---\n",
    "\n",
    "### Penjelasan Singkat Mengenai Metode Bisection\n",
    "\n",
    "**Apa itu Akar Fungsi?**\n",
    "Akar dari sebuah fungsi $f(x)$ adalah nilai $x$ di mana $f(x) = 0$. Secara grafis, ini adalah titik di mana kurva fungsi memotong sumbu-x.\n",
    "\n",
    "**Metode Bisection:**\n",
    "Metode Bisection adalah algoritma pencarian akar yang sederhana dan sangat *robust* (terjamin konvergensinya) untuk fungsi kontinu. Metode ini termasuk dalam kategori 'bracketing method' karena memerlukan dua titik awal, $a$ dan $b$, yang 'mengurung' sebuah akar. Ini berarti $f(a)$ dan $f(b)$ harus memiliki tanda yang berlawanan ($f(a) \\cdot f(b) < 0$)."
   ]
  },
  {
   "cell_type": "markdown",
   "id": "0d674caf",
   "metadata": {},
   "source": [
    "### Algoritma (Langkah-langkah) Metode Bisection:\n",
    "\n",
    "1.  **Definisikan Fungsi f(x):** Tentukan fungsi yang akarnya ingin dicari. Untuk soal ini, $f(x) = x^2 - 2x - 3$.\n",
    "2.  **Pilih Interval Awal $[a, b]$:** Pilih dua nilai $a$ dan $b$ sehingga $f(a)$ dan $f(b)$ memiliki tanda berlawanan. Ini adalah syarat mutlak agar metode bisa bekerja dan menjamin adanya setidaknya satu akar di antara $a$ dan $b$. Jika $f(a) \\cdot f(b) \\ge 0$, interval tersebut tidak valid.\n",
    "3.  **Hitung Titik Tengah ($c$):** Hitung titik tengah interval saat ini: $c = (a + b) / 2$. Nilai $c$ ini adalah estimasi akar yang di iterasi ini.\n",
    "4.  **Evaluasi $f(c)$ dan Perbarui Interval:**\n",
    "    * Jika $f(c)$ sangat dekat dengan nol (atau sama dengan nol), maka $c$ adalah akar yang di cari.\n",
    "    * Jika $f(a) \\cdot f(c) < 0$, berarti akar berada di sub-interval kiri $[a, c]$. Maka, set $b = c$ untuk iterasi berikutnya.\n",
    "    * Jika $f(c) \\cdot f(b) < 0$, berarti akar berada di sub-interval kanan $[c, b]$. Maka, set $a = c$ untuk iterasi berikutnya.\n",
    "5.  **Cek Kondisi Berhenti (Konvergensi):** Ulangi langkah 3 dan 4 sampai lebar interval $|b - a|$ menjadi lebih kecil dari toleransi error yang ditentukan ($\\epsilon_s = 10^{-4}$). Ketika kondisi ini terpenuhi, $c$ (atau $(a+b)/2$) adalah akar aproksimasi."
   ]
  },
  {
   "cell_type": "code",
   "execution_count": 5,
   "id": "24abcc5e",
   "metadata": {},
   "outputs": [],
   "source": [
    "import math\n",
    "\n",
    "def f(x):\n",
    "    \"\"\"\n",
    "    Fungsi yang akarnya ingin dicari: f(x) = x^2 - 2x - 3\n",
    "    \"\"\"\n",
    "    return x**2 - 2*x - 3"
   ]
  },
  {
   "cell_type": "code",
   "execution_count": 6,
   "id": "9f542fb2",
   "metadata": {},
   "outputs": [],
   "source": [
    "def bisection_method(a, b, es, max_iterations=100):\n",
    "    \"\"\"\n",
    "    Mencari akar dari f(x) menggunakan Metode Bisection.\n",
    "\n",
    "    Parameters:\n",
    "    a (float): Batas bawah interval awal.\n",
    "    b (float): Batas atas interval awal.\n",
    "    es (float): Toleransi error absolut (epsilon_s).\n",
    "    max_iterations (int): Jumlah iterasi maksimum untuk mencegah loop tak terbatas.\n",
    "\n",
    "    Returns:\n",
    "    float: Akar yang diaproksimasi.\n",
    "    int: Jumlah iterasi yang diambil.\n",
    "    \"\"\"\n",
    "    # Periksa apakah interval awal valid (mengurung akar)\n",
    "    if f(a) * f(b) >= 0:\n",
    "        print(\"Error: Fungsi memiliki tanda yang sama pada 'a' dan 'b'. Silakan pilih interval awal yang berbeda.\")\n",
    "        return None, None\n",
    "\n",
    "    # Inisialisasi variabel\n",
    "    ea = float('inf')  # Error aproksimasi (awalnya diatur tak terbatas)\n",
    "    c_prev = 0          # Untuk menyimpan nilai 'c' sebelumnya untuk perhitungan error relatif\n",
    "\n",
    "    print(f\"{'Iterasi':<10} {'a':<15} {'b':<15} {'c':<15} {'f(c)':<15} {'Error (%)':<15}\")\n",
    "    print(\"-\" * 90)\n",
    "\n",
    "    for i in range(max_iterations):\n",
    "        c = (a + b) / 2 # Hitung titik tengah\n",
    "\n",
    "        # Hitung error aproksimasi relatif (dalam persentase)\n",
    "        # Ini adalah error relatif antara estimasi akar saat ini (c) dengan estimasi sebelumnya (c_prev)\n",
    "        if c != 0:\n",
    "            ea = abs((c - c_prev) / c) * 100\n",
    "        else: # Handle kasus c = 0 untuk menghindari pembagian dengan nol\n",
    "            # Jika f(0) sangat dekat dengan nol dan memenuhi toleransi\n",
    "            if abs(f(c)) < es:\n",
    "                ea = 0\n",
    "            else:\n",
    "                ea = float('inf') # Jika c=0 tapi belum konvergen, error masih besar\n",
    "\n",
    "        print(f\"{i+1:<10} {a:<15.6f} {b:<15.6f} {c:<15.6f} {f(c):<15.6f} {ea:<15.6f}\")\n",
    "\n",
    "        # Periksa apakah c adalah akar eksak (sangat jarang terjadi dalam komputasi floating-point)\n",
    "        if f(c) == 0:\n",
    "            print(f\"\\nRoot eksak ditemukan pada x = {c}\")\n",
    "            return c, i + 1\n",
    "\n",
    "        # Perbarui interval: tentukan di sub-interval mana akar berada\n",
    "        if f(a) * f(c) < 0:\n",
    "            b = c\n",
    "        else:\n",
    "            a = c\n",
    "\n",
    "        c_prev = c # Simpan c saat ini sebagai c_prev untuk iterasi berikutnya\n",
    "\n",
    "        # Periksa kondisi berhenti berdasarkan lebar interval (absolute error)\n",
    "        if abs(b - a) < es:\n",
    "            print(f\"\\nKonvergensi mencapai toleransi {es} setelah {i+1} iterasi.\")\n",
    "            return (a + b) / 2, i + 1\n",
    "\n",
    "    print(\"\\nIterasi maksimum tercapai. Solusi mungkin tidak mencapai toleransi yang diinginkan.\")\n",
    "    return (a + b) / 2, max_iterations"
   ]
  },
  {
   "cell_type": "markdown",
   "id": "a99aae54",
   "metadata": {},
   "source": [
    "### Simulasi Program (Menjalankan Program)\n",
    "\n",
    "Untuk fungsi $f(x) = x^2 - 2x - 3$, akar-akarnya adalah $x = 3$ dan $x = -1$.\n",
    "Kemudian melakukan simulasi untuk mencari kedua akar tersebut dengan memilih interval awal yang berbeda.\n",
    "\n",
    "**Kasus 1: Mencari akar di dekat $x = 3$**\n",
    "Gunakan interval awal $[2.0, 4.0]$."
   ]
  },
  {
   "cell_type": "code",
   "execution_count": 18,
   "id": "6a058d5e",
   "metadata": {},
   "outputs": [
    {
     "name": "stdout",
     "output_type": "stream",
     "text": [
      "----------------- Mencari akar untuk f(x) = x^2 - 2x - 3 di dekat x = 3 ------------------\n",
      "Iterasi    a               b               c               f(c)            Error (%)      \n",
      "------------------------------------------------------------------------------------------\n",
      "1          2.000000        4.000000        3.000000        0.000000        100.000000     \n",
      "\n",
      "Root eksak ditemukan pada x = 3.0\n",
      "\n",
      "Akar aproksimasi untuk interval [2.0, 4.0]: 3.000000\n",
      "Jumlah iterasi: 1\n"
     ]
    }
   ],
   "source": [
    "# Kasus 1: Mencari akar di dekat x = 3\n",
    "print(\"----------------- Mencari akar untuk f(x) = x^2 - 2x - 3 di dekat x = 3 ------------------\")\n",
    "initial_a1 = 2.0\n",
    "initial_b1 = 4.0\n",
    "tolerance = 10**-4 # Toleransi error yang diminta \n",
    "\n",
    "# Pastikan interval awal valid sebelum memanggil metode bisection\n",
    "if f(initial_a1) * f(initial_b1) < 0:\n",
    "    root1, iterations1 = bisection_method(initial_a1, initial_b1, tolerance)\n",
    "    if root1 is not None:\n",
    "        print(f\"\\nAkar aproksimasi untuk interval [{initial_a1}, {initial_b1}]: {root1:.6f}\")\n",
    "        print(f\"Jumlah iterasi: {iterations1}\")\n",
    "else:\n",
    "    print(f\"Interval awal [{initial_a1}, {initial_b1}] tidak mengurung akar.\")"
   ]
  },
  {
   "cell_type": "markdown",
   "id": "bab6e716",
   "metadata": {},
   "source": [
    "---\n",
    "\n",
    "**Kasus 2: Mencari akar di dekat $x = -1$**\n",
    "menggunakan interval awal $[-2.0, 0.0]$."
   ]
  },
  {
   "cell_type": "code",
   "execution_count": 16,
   "id": "e57eb330",
   "metadata": {
    "tags": []
   },
   "outputs": [
    {
     "name": "stdout",
     "output_type": "stream",
     "text": [
      "\n",
      "==========================================================================================\n",
      "\n",
      "----------------- Mencari akar untuk f(x) = x^2 - 2x - 3 di dekat x = -1 -----------------\n",
      "Iterasi    a               b               c               f(c)            Error (%)      \n",
      "------------------------------------------------------------------------------------------\n",
      "1          -2.000000       0.000000        -1.000000       0.000000        100.000000     \n",
      "\n",
      "Root eksak ditemukan pada x = -1.0\n",
      "\n",
      "Akar aproksimasi untuk interval [-2.0, 0.0]: -1.000000\n",
      "Jumlah iterasi: 1\n"
     ]
    }
   ],
   "source": [
    "# Kasus 2: Mencari akar di dekat x = -1\n",
    "print(\"\\n\" + \"=\"*90 + \"\\n\")\n",
    "print(\"----------------- Mencari akar untuk f(x) = x^2 - 2x - 3 di dekat x = -1 -----------------\")\n",
    "initial_a2 = -2.0\n",
    "initial_b2 = 0.0\n",
    "\n",
    "# Pastikan interval awal valid sebelum memanggil metode bisection\n",
    "if f(initial_a2) * f(initial_b2) < 0:\n",
    "    root2, iterations2 = bisection_method(initial_a2, initial_b2, tolerance)\n",
    "    if root2 is not None:\n",
    "        print(f\"\\nAkar aproksimasi untuk interval [{initial_a2}, {initial_b2}]: {root2:.6f}\")\n",
    "        print(f\"Jumlah iterasi: {iterations2}\")\n",
    "else:\n",
    "    print(f\"Interval awal [{initial_a2}, {initial_b2}] tidak mengurung akar.\")"
   ]
  },
  {
   "cell_type": "code",
   "execution_count": null,
   "id": "cc8784ae-639f-48ab-8087-ddc362e97aa9",
   "metadata": {},
   "outputs": [],
   "source": []
  }
 ],
 "metadata": {
  "kernelspec": {
   "display_name": "Python 3 (ipykernel)",
   "language": "python",
   "name": "python3"
  },
  "language_info": {
   "codemirror_mode": {
    "name": "ipython",
    "version": 3
   },
   "file_extension": ".py",
   "mimetype": "text/x-python",
   "name": "python",
   "nbconvert_exporter": "python",
   "pygments_lexer": "ipython3",
   "version": "3.10.6"
  }
 },
 "nbformat": 4,
 "nbformat_minor": 5
}
